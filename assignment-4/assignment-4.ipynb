{
 "cells": [
  {
   "cell_type": "markdown",
   "metadata": {},
   "source": [
    "# Python by Jawaan Pakistan\n",
    "## Assignment 4\n",
    "\n",
    "#### 1. Make a calculator using Python with addition, subtraction, multiplication, division and power."
   ]
  },
  {
   "cell_type": "code",
   "execution_count": 1,
   "metadata": {},
   "outputs": [
    {
     "name": "stdout",
     "output_type": "stream",
     "text": [
      "Enter first number: 8\n",
      "Enter operator:\n",
      "    + for Addition\n",
      "    - for Subtraction\n",
      "    * for Multiplication\n",
      "    / for Division\n",
      "    ^ for Power+\n",
      "Enter second number: 8\n",
      "8 + 8 = 16\n",
      "What would you like to continue or exit? (y/n): y\n",
      "Enter first number: 9\n",
      "Enter operator:\n",
      "    + for Addition\n",
      "    - for Subtraction\n",
      "    * for Multiplication\n",
      "    / for Division\n",
      "    ^ for Power^\n",
      "Enter second number: 2\n",
      "9 ^ 2 = 81\n",
      "What would you like to continue or exit? (y/n): n\n"
     ]
    }
   ],
   "source": [
    "while True:\n",
    "    # taking inputs from user\n",
    "    num1 = eval(input(\"Enter first number: \"))\n",
    "    op = input('''Enter operator:\n",
    "    + for Addition\n",
    "    - for Subtraction\n",
    "    * for Multiplication\n",
    "    / for Division\n",
    "    ^ for Power''')\n",
    "    num2 = eval(input(\"Enter second number: \"))\n",
    "    \n",
    "    # checking operator and displaying result\n",
    "    if op == \"+\":\n",
    "        print(f\"{num1} + {num2} = {num1 + num2}\")\n",
    "    elif op == \"-\":\n",
    "        print(f\"{num1} - {num2} = {num1 - num2}\")\n",
    "    elif op == \"*\":\n",
    "        print(f\"{num1} * {num2} = {num1 * num2}\")\n",
    "    elif op == \"/\":\n",
    "        print(f\"{num1} / {num2} = {num1 / num2}\")\n",
    "    elif op == \"^\":\n",
    "        print(f\"{num1} ^ {num2} = {num1 ** num2}\")\n",
    "    else:\n",
    "        print(\"Unknown operator, try again\")\n",
    "    \n",
    "    # asking if user wants to continue\n",
    "    choice = input(\"What would you like to continue or exit? (y/n): \")\n",
    "    if choice == \"n\":\n",
    "        break\n"
   ]
  },
  {
   "cell_type": "markdown",
   "metadata": {},
   "source": [
    "#### 2. Write a program to check if there is any numeric value in list using for loop."
   ]
  },
  {
   "cell_type": "code",
   "execution_count": 2,
   "metadata": {},
   "outputs": [
    {
     "name": "stdout",
     "output_type": "stream",
     "text": [
      "List contains numeric values.\n"
     ]
    }
   ],
   "source": [
    "list1 = ['a', True, 4, \"Hello\"]\n",
    "hasNumeric = False\n",
    "\n",
    "for i in list1:\n",
    "    if type(i) == int or type(i) == float:\n",
    "        hasNumeric = True\n",
    "        break\n",
    "\n",
    "if hasNumeric:        \n",
    "    print(\"List contains numeric values.\")\n",
    "else:\n",
    "    print(\"List does not contain numeric values.\")"
   ]
  },
  {
   "cell_type": "markdown",
   "metadata": {},
   "source": [
    "#### 3. Write a Python script to add a key to a dictionary."
   ]
  },
  {
   "cell_type": "code",
   "execution_count": 3,
   "metadata": {},
   "outputs": [
    {
     "name": "stdout",
     "output_type": "stream",
     "text": [
      "Enter key to add to the dictionary: hello\n",
      "Enter associated value to add: world\n",
      "{'hello': 'world'}\n"
     ]
    }
   ],
   "source": [
    "dict1 = {}\n",
    "\n",
    "key = input(\"Enter key to add to the dictionary: \")\n",
    "value = input(\"Enter associated value to add: \")\n",
    "\n",
    "dict1[key] = value\n",
    "\n",
    "print(dict1)"
   ]
  },
  {
   "cell_type": "markdown",
   "metadata": {},
   "source": [
    "#### 4. Write a Python program to sum all the numeric items in a dictionary."
   ]
  },
  {
   "cell_type": "code",
   "execution_count": 4,
   "metadata": {},
   "outputs": [
    {
     "name": "stdout",
     "output_type": "stream",
     "text": [
      "Sum of all numeric values in dictionary = 10\n"
     ]
    }
   ],
   "source": [
    "dict1 = {'a': 1, 'b': 2, 'c': 3, 'd':4}\n",
    "\n",
    "sum = 0\n",
    "for key, value in dict1.items():\n",
    "    if type(value) == int:\n",
    "        sum += value\n",
    "\n",
    "print(\"Sum of all numeric values in dictionary =\", sum)"
   ]
  },
  {
   "cell_type": "markdown",
   "metadata": {},
   "source": [
    "#### 5. Write a program to identify duplicate values from list."
   ]
  },
  {
   "cell_type": "code",
   "execution_count": 5,
   "metadata": {},
   "outputs": [
    {
     "name": "stdout",
     "output_type": "stream",
     "text": [
      "Duplicated value: 1\n",
      "Duplicated value: 3\n",
      "Duplicated value: 5\n",
      "Duplicated value: 7\n",
      "Duplicated value: 9\n"
     ]
    }
   ],
   "source": [
    "list1 = [1,2,3,4,5,6,7,8,9, 1, 3, 5, 7, 9]\n",
    "repeated_values = []\n",
    "\n",
    "for item in list1:\n",
    "    if item not in repeated_values:\n",
    "        repeated_values.append(item)\n",
    "    else:\n",
    "        print(\"Duplicated value:\", item)"
   ]
  },
  {
   "cell_type": "markdown",
   "metadata": {},
   "source": [
    "#### 6. Write a Python script to check if a given key already exists in a dictionary."
   ]
  },
  {
   "cell_type": "code",
   "execution_count": 7,
   "metadata": {},
   "outputs": [
    {
     "name": "stdout",
     "output_type": "stream",
     "text": [
      "Enter key to check: c\n",
      "Key exists.\n"
     ]
    }
   ],
   "source": [
    "dict1 = {'a': 1, 'b': 2, 'c': 3}\n",
    "\n",
    "key = input(\"Enter key to check: \")\n",
    "\n",
    "if key in dict1.keys():\n",
    "    print(\"Key exists.\")\n",
    "else:\n",
    "    print(\"Key does not exist.\")"
   ]
  }
 ],
 "metadata": {
  "interpreter": {
   "hash": "916dbcbb3f70747c44a77c7bcd40155683ae19c65e1c03b4aa3499c5328201f1"
  },
  "kernelspec": {
   "display_name": "Python 3 (ipykernel)",
   "language": "python",
   "name": "python3"
  },
  "language_info": {
   "codemirror_mode": {
    "name": "ipython",
    "version": 3
   },
   "file_extension": ".py",
   "mimetype": "text/x-python",
   "name": "python",
   "nbconvert_exporter": "python",
   "pygments_lexer": "ipython3",
   "version": "3.8.8"
  }
 },
 "nbformat": 4,
 "nbformat_minor": 2
}
