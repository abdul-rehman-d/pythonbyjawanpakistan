{
 "cells": [
  {
   "cell_type": "code",
   "execution_count": 1,
   "id": "cae70c93",
   "metadata": {},
   "outputs": [
    {
     "name": "stdout",
     "output_type": "stream",
     "text": [
      "\tTwinkle, twinkle, little star,\n",
      "\t\tHow I wonder what you are!\n",
      "\t\t\tUp above the world so high,\n",
      "\t\t\tLike a diamond in the sky.\n",
      "\tTwinkle, twinkle, little star,\n",
      "\t\tHow I wonder what you are!\n"
     ]
    }
   ],
   "source": [
    "# 1. Write a Python program to print the following string in a specific format (see the output).\n",
    "\n",
    "print(\"\\tTwinkle, twinkle, little star,\")\n",
    "print(\"\\t\\tHow I wonder what you are!\")\n",
    "print(\"\\t\\t\\tUp above the world so high,\")\n",
    "print(\"\\t\\t\\tLike a diamond in the sky.\")\n",
    "print(\"\\tTwinkle, twinkle, little star,\")\n",
    "print(\"\\t\\tHow I wonder what you are!\")"
   ]
  },
  {
   "cell_type": "code",
   "execution_count": 3,
   "id": "4e17b94d",
   "metadata": {},
   "outputs": [
    {
     "name": "stdout",
     "output_type": "stream",
     "text": [
      "3.8.8 (default, Apr 13 2021, 19:58:26) \n",
      "[GCC 7.3.0]\n"
     ]
    }
   ],
   "source": [
    "# 2. Write a Python program to get the Python version you are using.\n",
    "\n",
    "import sys\n",
    "print(sys.version)"
   ]
  },
  {
   "cell_type": "code",
   "execution_count": 9,
   "id": "ee8212a5",
   "metadata": {},
   "outputs": [
    {
     "name": "stdout",
     "output_type": "stream",
     "text": [
      "22/10/2021 14:52:11\n"
     ]
    }
   ],
   "source": [
    "# 3. Write a Python program to display the current date and time.\n",
    "\n",
    "from datetime import datetime\n",
    "date_time = datetime.now()\n",
    "print(date_time.strftime(\"%d/%m/%Y %H:%M:%S\"))"
   ]
  },
  {
   "cell_type": "code",
   "execution_count": 16,
   "id": "a23cfce2",
   "metadata": {},
   "outputs": [
    {
     "name": "stdout",
     "output_type": "stream",
     "text": [
      "Enter radius of the circle: 5\n",
      "Area of circle with radius of 5 is = 78.54\n"
     ]
    }
   ],
   "source": [
    "# 4. Write a Python program which accepts the radius of a circle from the user and compute the area.\n",
    "\n",
    "from math import pi\n",
    "radius = int(input(\"Enter radius of the circle: \"))\n",
    "area = pi * (radius ** 2)\n",
    "print(f\"Area of circle with radius of {radius} is = {area:.2f}\")"
   ]
  },
  {
   "cell_type": "code",
   "execution_count": 19,
   "id": "30c052bf",
   "metadata": {},
   "outputs": [
    {
     "name": "stdout",
     "output_type": "stream",
     "text": [
      "Enter first name: abdul\n",
      "Enter last name: rehman\n",
      "rehman abdul\n"
     ]
    }
   ],
   "source": [
    "# 5. Write a Python program which accepts the user's first and last name and print them in\n",
    "#    reverse order with a space between them.\n",
    "\n",
    "first_name = input(\"Enter first name: \")\n",
    "last_name = input(\"Enter last name: \")\n",
    "print(last_name + \" \" + first_name)"
   ]
  },
  {
   "cell_type": "code",
   "execution_count": 21,
   "id": "5d019366",
   "metadata": {},
   "outputs": [
    {
     "name": "stdout",
     "output_type": "stream",
     "text": [
      "Enter first number: 4\n",
      "Enter second number: 6\n",
      "4 + 6 = 10\n"
     ]
    }
   ],
   "source": [
    "# 6. Write a python program which takes two inputs from user and print their addition.\n",
    "\n",
    "num1 = int(input(\"Enter first number: \"))\n",
    "num2 = int(input(\"Enter second number: \"))\n",
    "\n",
    "print(f\"{num1} + {num2} = {num1+num2}\")"
   ]
  },
  {
   "cell_type": "code",
   "execution_count": 28,
   "id": "71952485",
   "metadata": {},
   "outputs": [
    {
     "name": "stdout",
     "output_type": "stream",
     "text": [
      "Enter obtained in Maths: 90\n",
      "Enter obtained in Urdu: 80\n",
      "Enter obtained in English: 70\n",
      "Enter obtained in History: 80\n",
      "Enter obtained in Physics: 90\n",
      "\n",
      "############# MARKSHEET #############\n",
      "Maths\t\t90\n",
      "Urdu\t\t80\n",
      "English\t\t70\n",
      "History\t\t80\n",
      "Physics\t\t90\n",
      "Total Obtained Marks:\t410\n",
      "Total Maximum Marks:\t500\n",
      "Percentage:\t\t82.00%\n"
     ]
    }
   ],
   "source": [
    "# 7. Write a program which takes 5 inputs from user for different subject’s marks, total it\n",
    "#    and generate mark sheet using grades ?\n",
    "\n",
    "# declaring variables\n",
    "total_obtained_marks = 0\n",
    "maximum_marks = 100\n",
    "\n",
    "# making two lists to store subject names and marks\n",
    "subjects = [\"Maths\", \"Urdu\", \"English\", \"History\", \"Physics\"]\n",
    "subject_marks = []\n",
    "\n",
    "# accepting user input\n",
    "for subject in subjects:\n",
    "    marks = int(input(f\"Enter obtained in {subject}: \"))\n",
    "    subject_marks.append(marks)\n",
    "\n",
    "# calculating total\n",
    "for marks in subject_marks:\n",
    "    total_obtained_marks += marks\n",
    "\n",
    "# calculating percentage\n",
    "total_maximum_marks = maximum_marks * len(subjects)\n",
    "percentage = (total_obtained_marks / total_maximum_marks) * 100\n",
    "\n",
    "# printing marksheet\n",
    "print(\"\\n############# MARKSHEET #############\")\n",
    "for i in range(0,5):\n",
    "    print(f\"{subjects[i]}\\t\\t{subject_marks[i]}\")\n",
    "print(f\"Total Obtained Marks:\\t{total_obtained_marks}\")\n",
    "print(f\"Total Maximum Marks:\\t{total_maximum_marks}\")\n",
    "print(f\"Percentage:\\t\\t{percentage:.2f}%\")"
   ]
  },
  {
   "cell_type": "code",
   "execution_count": 29,
   "id": "60b46195",
   "metadata": {},
   "outputs": [
    {
     "name": "stdout",
     "output_type": "stream",
     "text": [
      "Enter a number5\n",
      "5 is an odd number\n"
     ]
    }
   ],
   "source": [
    "# 8. Write a program which take input from user and identify that the given number is even or odd?\n",
    "\n",
    "num = int(input(\"Enter a number\"))\n",
    "if num%2 == 0:\n",
    "    print(f\"{num} is an even number\")\n",
    "else:\n",
    "    print(f\"{num} is an odd number\")"
   ]
  },
  {
   "cell_type": "code",
   "execution_count": 30,
   "id": "dc0b514f",
   "metadata": {},
   "outputs": [
    {
     "name": "stdout",
     "output_type": "stream",
     "text": [
      "Length of list [1, 2, 3, 4, 5, 6, 7, 8, 9] is 9\n"
     ]
    }
   ],
   "source": [
    "# 9. Write a program which print the length of the list?\n",
    "\n",
    "l = [1,2,3,4,5,6,7,8,9]\n",
    "length = len(l)\n",
    "print(f\"Length of list {l} is {length}\")"
   ]
  },
  {
   "cell_type": "code",
   "execution_count": 31,
   "id": "fb051904",
   "metadata": {},
   "outputs": [
    {
     "name": "stdout",
     "output_type": "stream",
     "text": [
      "Sum of all numeric elements in [1, 2, 3, 4, 5, 6, 7, 8, 9] = 45\n"
     ]
    }
   ],
   "source": [
    "# 10. Write a Python program to sum all the numeric items in a list?\n",
    "\n",
    "l = [1,2,3,4,5,6,7,8,9]\n",
    "total = 0\n",
    "\n",
    "for element in l:\n",
    "    total += element\n",
    "\n",
    "print(f\"Sum of all numeric elements in {l} = {total}\")"
   ]
  },
  {
   "cell_type": "code",
   "execution_count": 33,
   "id": "21366523",
   "metadata": {},
   "outputs": [
    {
     "name": "stdout",
     "output_type": "stream",
     "text": [
      "Largest number in list [45, 100, 56, 4, 87] is = 100\n"
     ]
    }
   ],
   "source": [
    "# 11. Write a Python program to get the largest number from a numeric list.\n",
    "\n",
    "l = [45, 100, 56, 4, 87]\n",
    "largest = l[0]\n",
    "\n",
    "for number in l:\n",
    "    if number > largest:\n",
    "        largest = number\n",
    "\n",
    "print(f\"Largest number in list {l} is = {largest}\")"
   ]
  },
  {
   "cell_type": "code",
   "execution_count": 36,
   "id": "7a14d5d1",
   "metadata": {},
   "outputs": [
    {
     "name": "stdout",
     "output_type": "stream",
     "text": [
      "[1, 2, 3, 4, 5, 6, 7, 8, 9, 0, 9, 8, 7, 6, 5, 4, 3, 2, 1]\n",
      "Numbers in list lesser than 5:\n",
      "1\n",
      "2\n",
      "3\n",
      "4\n",
      "0\n",
      "4\n",
      "3\n",
      "2\n",
      "1\n"
     ]
    }
   ],
   "source": [
    "# 12. Write a program that prints out all the elements of the list that are less than 5.\n",
    "\n",
    "numbers = [1, 2, 3, 4, 5, 6, 7, 8, 9, 0, 9, 8, 7, 6, 5, 4, 3, 2, 1]\n",
    "print(numbers)\n",
    "\n",
    "print(\"Numbers in list lesser than 5:\")\n",
    "for number in numbers:\n",
    "    if number < 5:\n",
    "        print(number)"
   ]
  }
 ],
 "metadata": {
  "kernelspec": {
   "display_name": "Python 3",
   "language": "python",
   "name": "python3"
  },
  "language_info": {
   "codemirror_mode": {
    "name": "ipython",
    "version": 3
   },
   "file_extension": ".py",
   "mimetype": "text/x-python",
   "name": "python",
   "nbconvert_exporter": "python",
   "pygments_lexer": "ipython3",
   "version": "3.8.8"
  }
 },
 "nbformat": 4,
 "nbformat_minor": 5
}
